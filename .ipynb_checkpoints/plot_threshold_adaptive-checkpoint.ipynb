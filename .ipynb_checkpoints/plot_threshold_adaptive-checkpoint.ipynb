{
 "cells": [
  {
   "cell_type": "code",
   "execution_count": null,
   "metadata": {
    "collapsed": false
   },
   "outputs": [],
   "source": [
    "%matplotlib inline"
   ]
  },
  {
   "cell_type": "markdown",
   "metadata": {},
   "source": [
    "<div class=\"document\" id=\"adaptive-thresholding\">\n",
    "<h1 class=\"title\">Adaptive Thresholding</h1>\n",
    "<p>Thresholding is the simplest way to segment objects from a background. If that\n",
    "background is relatively uniform, then you can use a global threshold value to\n",
    "binarize the image by pixel-intensity. If there's large variation in the\n",
    "background intensity, however, adaptive thresholding (a.k.a. local or dynamic\n",
    "thresholding) may produce better results.</p>\n",
    "<p>Here, we binarize an image using the <cite>threshold_adaptive</cite> function, which\n",
    "calculates thresholds in regions of size <cite>block_size</cite> surrounding each pixel\n",
    "(i.e. local neighborhoods). Each threshold value is the weighted mean of the\n",
    "local neighborhood minus an offset value.</p>\n",
    "</div>\n"
   ]
  },
  {
   "cell_type": "code",
   "execution_count": null,
   "metadata": {
    "collapsed": false
   },
   "outputs": [],
   "source": [
    "import matplotlib.pyplot as plt\n",
    "\n",
    "from skimage import data\n",
    "from skimage.filters import threshold_otsu, threshold_adaptive\n",
    "\n",
    "\n",
    "image = data.page()\n",
    "\n",
    "global_thresh = threshold_otsu(image)\n",
    "binary_global = image > global_thresh\n",
    "\n",
    "block_size = 35\n",
    "binary_adaptive = threshold_adaptive(image, block_size, offset=10)\n",
    "\n",
    "fig, axes = plt.subplots(nrows=3, figsize=(7, 8))\n",
    "ax0, ax1, ax2 = axes\n",
    "plt.gray()\n",
    "\n",
    "ax0.imshow(image)\n",
    "ax0.set_title('Image')\n",
    "\n",
    "ax1.imshow(binary_global)\n",
    "ax1.set_title('Global thresholding')\n",
    "\n",
    "ax2.imshow(binary_adaptive)\n",
    "ax2.set_title('Adaptive thresholding')\n",
    "\n",
    "for ax in axes:\n",
    "    ax.axis('off')\n",
    "\n",
    "plt.show()\n"
   ]
  }
 ],
 "metadata": {
  "kernelspec": {
   "display_name": "Python 2",
   "language": "python",
   "name": "python2"
  },
  "language_info": {
   "codemirror_mode": {
    "name": "ipython",
    "version": 2
   },
   "file_extension": ".py",
   "mimetype": "text/x-python",
   "name": "python",
   "nbconvert_exporter": "python",
   "pygments_lexer": "ipython2",
   "version": "2.7.11"
  }
 },
 "nbformat": 4,
 "nbformat_minor": 0
}
