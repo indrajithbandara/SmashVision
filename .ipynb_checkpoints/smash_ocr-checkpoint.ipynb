{
 "cells": [
  {
   "cell_type": "markdown",
   "metadata": {},
   "source": [
    "# Smash OCR #\n",
    "\n",
    "Smash OCR, thank you [youtube-chord-ocr](https://github.com/henridwyer/youtube-chord-ocr)"
   ]
  },
  {
   "cell_type": "code",
   "execution_count": 1,
   "metadata": {
    "collapsed": false,
    "scrolled": true
   },
   "outputs": [
    {
     "data": {
      "text/html": [
       "\n",
       "        <iframe\n",
       "            width=\"400\"\n",
       "            height=\"300\"\n",
       "            src=\"https://www.youtube.com/embed/xPJCiML28Ds\"\n",
       "            frameborder=\"0\"\n",
       "            allowfullscreen\n",
       "        ></iframe>\n",
       "        "
      ],
      "text/plain": [
       "<IPython.lib.display.YouTubeVideo at 0x103e7fd50>"
      ]
     },
     "execution_count": 1,
     "metadata": {},
     "output_type": "execute_result"
    }
   ],
   "source": [
    "from IPython.display import YouTubeVideo\n",
    "\n",
    "# Dr. PP (Falco) vs Rocky (C.Falcon) Pools R2\n",
    "YouTubeVideo('xPJCiML28Ds')"
   ]
  },
  {
   "cell_type": "markdown",
   "metadata": {},
   "source": [
    "# Contents #\n",
    "- [Downloading Videos](#Downloading-Videos)\n",
    "- [Reading Damage](#Reading-Damage)\n",
    "- [Tying Everything Together](#Tying-Everything-Together)\n",
    "- [Profiling](#Profiling)"
   ]
  },
  {
   "cell_type": "code",
   "execution_count": 2,
   "metadata": {
    "collapsed": false
   },
   "outputs": [],
   "source": [
    "import smash_ocr, cv2"
   ]
  },
  {
   "cell_type": "code",
   "execution_count": 3,
   "metadata": {
    "collapsed": false
   },
   "outputs": [
    {
     "data": {
      "text/plain": [
       "<module 'smash_ocr' from 'smash_ocr.pyc'>"
      ]
     },
     "execution_count": 3,
     "metadata": {},
     "output_type": "execute_result"
    }
   ],
   "source": [
    "reload(smash_ocr)"
   ]
  },
  {
   "cell_type": "markdown",
   "metadata": {},
   "source": [
    "## Downloading Videos ##\n",
    "\n",
    "First we will download a video with user input of start/end times of the game, and the dimensions of the match video.\n",
    "\n",
    "In order to download the videos, we will use the python package [youtube-dl](https://github.com/rg3/youtube-dl). \n",
    "And probably [ffmpeg](https://www.ffmpeg.org/) to optimise download time and crop sections.\n"
   ]
  },
  {
   "cell_type": "code",
   "execution_count": 4,
   "metadata": {
    "collapsed": true
   },
   "outputs": [],
   "source": [
    "VIDEO_ID = 'xPJCiML28Ds'\n",
    "START_TIME = 2\n",
    "DURATION = 37\n",
    "CROP = (480,360,80,0)"
   ]
  },
  {
   "cell_type": "code",
   "execution_count": 5,
   "metadata": {
    "collapsed": false
   },
   "outputs": [
    {
     "name": "stdout",
     "output_type": "stream",
     "text": [
      "Executing: youtube-dl -f 22/best --get-url https://www.youtube.com/watch?v=xPJCiML28Ds\n",
      "Executing: ffmpeg -y -ss 2 -i https://r17---sn-q4f7snlk.googlevideo.com/videoplayback?itag=18&expire=1455514321&fexp=9408494%2C9410705%2C9412914%2C9416126%2C9420452%2C9422596%2C9422781%2C9423290%2C9423660%2C9423662%2C9424038%2C9424161%2C9425619%2C9425730%2C9426233%2C9428433&sparams=dur%2Cid%2Cip%2Cipbits%2Citag%2Clmt%2Cmime%2Cmm%2Cmn%2Cms%2Cmv%2Cnh%2Cpl%2Cratebypass%2Crequiressl%2Csource%2Cupn%2Cexpire&source=youtube&mime=video%2Fmp4&signature=980D0378DD2549DC00F68442F4B68EB8457DB17D.DDA644F727A3EC83C4B796786D6E565705D0BDCD&sver=3&requiressl=yes&pl=32&nh=IgpwcjAzLmRmdzA2KgkxMjcuMC4wLjE&ratebypass=yes&upn=VmynyOV2F0g&id=o-AAFOJWcwobDlvVoo1jzZOPbNZe59HuEYrpVy_qrssUzs&key=yt6&ip=2606%3Aa000%3Aae82%3A7500%3Ab9b5%3Aaa4f%3A29a5%3A158c&ipbits=0&lmt=1342542390156402&mv=m&mt=1455492650&ms=au&mn=sn-q4f7snlk&mm=31&dur=132.260 -t 37 -c:v copy -c:a copy output/xPJCiML28Ds.mp4\n"
     ]
    }
   ],
   "source": [
    "# Use youtube-dl and ffmpeg to obtain the direct video URL\n",
    "smash_ocr.download_video(VIDEO_ID, START_TIME, DURATION)"
   ]
  },
  {
   "cell_type": "code",
   "execution_count": 6,
   "metadata": {
    "collapsed": false
   },
   "outputs": [
    {
     "name": "stdout",
     "output_type": "stream",
     "text": [
      "Executing: ffmpeg -y -i output/xPJCiML28Ds.mp4 -vf crop=480:360:80:0 output/smash.mp4\n"
     ]
    }
   ],
   "source": [
    "reload(smash_ocr)\n",
    "# Crop downloaded video to only contain melee\n",
    "smash_ocr.crop_video(VIDEO_ID, CROP)"
   ]
  },
  {
   "cell_type": "markdown",
   "metadata": {},
   "source": [
    "## Preprocessing Match Video ##\n",
    "\n"
   ]
  },
  {
   "cell_type": "markdown",
   "metadata": {
    "collapsed": true
   },
   "source": [
    "# Reading Damage"
   ]
  },
  {
   "cell_type": "code",
   "execution_count": 7,
   "metadata": {
    "collapsed": false
   },
   "outputs": [
    {
     "name": "stdout",
     "output_type": "stream",
     "text": [
      "Reading output/p1.mp4\n",
      "1089.97058824 frames\n",
      "29.4117647059 fps\n"
     ]
    }
   ],
   "source": [
    "video = \"output/p1.mp4\"\n",
    "print \"Reading \" + video\n",
    "vidcap = cv2.VideoCapture(video)\n",
    "video_nb_frames = vidcap.get(cv2.cv.CV_CAP_PROP_FRAME_COUNT)\n",
    "print video_nb_frames, \"frames\"\n",
    "vidcap.isOpened()\n",
    "video_fps = vidcap.get(cv2.cv.CV_CAP_PROP_FPS)\n",
    "print video_fps, \"fps\""
   ]
  },
  {
   "cell_type": "markdown",
   "metadata": {},
   "source": [
    "### Read the Damage in a Frame ###"
   ]
  },
  {
   "cell_type": "code",
   "execution_count": 111,
   "metadata": {
    "collapsed": false
   },
   "outputs": [],
   "source": [
    "reload(smash_ocr)\n",
    "import matplotlib.cm as cm\n",
    "%matplotlib inline\n",
    "vidcap = cv2.VideoCapture(video)\n",
    "image = None"
   ]
  },
  {
   "cell_type": "code",
   "execution_count": 110,
   "metadata": {
    "collapsed": false
   },
   "outputs": [
    {
     "name": "stdout",
     "output_type": "stream",
     "text": [
      "pre-proc shape: (30, 80)\n",
      "previous_frame_global [[0 0 0 ..., 0 0 0]\n",
      " [0 0 0 ..., 0 0 0]\n",
      " [0 0 0 ..., 0 0 0]\n",
      " ..., \n",
      " [0 0 0 ..., 0 0 0]\n",
      " [0 0 0 ..., 0 0 0]\n",
      " [0 0 0 ..., 0 0 0]]\n"
     ]
    },
    {
     "data": {
      "image/png": "[encoded data removed]",
      "text/plain": [
       "<matplotlib.figure.Figure at 0x109fed3d0>"
      ]
     },
     "metadata": {},
     "output_type": "display_data"
    }
   ],
   "source": [
    "smash_ocr.skip_frames(vidcap, 40)\n",
    "success, img = vidcap.read()\n",
    "proc = smash_ocr.img_pre_process(img)\n",
    "smash_ocr.show_img(proc)\n",
    "damage, differences = smash_ocr.get_active_damage(img)"
   ]
  },
  {
   "cell_type": "markdown",
   "metadata": {},
   "source": [
    "### Read the active damag of each frame ###"
   ]
  },
  {
   "cell_type": "code",
   "execution_count": null,
   "metadata": {
    "collapsed": false
   },
   "outputs": [],
   "source": [
    "reload(smash_ocr)\n",
    "import matplotlib.cm as cm\n",
    "%matplotlib inline\n",
    "vidcap = cv2.VideoCapture(video)"
   ]
  },
  {
   "cell_type": "code",
   "execution_count": null,
   "metadata": {
    "collapsed": false,
    "scrolled": true
   },
   "outputs": [],
   "source": [
    "frame_damage = smash_ocr.vidcap_to_frame_damage(vidcap, video_fps, nb_frames = -1)\n",
    "frame_damage"
   ]
  },
  {
   "cell_type": "markdown",
   "metadata": {},
   "source": [
    "### Convert to intervals ###\n",
    "Damage will only increase to 999 or go back to 0. \n",
    "Chords generally come in intervals: several consecutive frames have the same chord. We can write this as a list:\n",
    "\n",
    "(start frame, end frame), chord name"
   ]
  },
  {
   "cell_type": "code",
   "execution_count": null,
   "metadata": {
    "collapsed": false,
    "scrolled": true
   },
   "outputs": [],
   "source": [
    "damage_intervals = video_ocr.frame_damage_to_damage_intervals(frame_damage)\n",
    "print len(damage_intervals.items())\n",
    "damage_intervals.items()"
   ]
  },
  {
   "cell_type": "markdown",
   "metadata": {},
   "source": [
    "### Clean intervals ###\n",
    "\n",
    "Sometimes some frames get misread, so first we'll remove any interval that is too short. Then we'll merge intervals that are separated by only a few frames without any chord."
   ]
  },
  {
   "cell_type": "code",
   "execution_count": null,
   "metadata": {
    "collapsed": false
   },
   "outputs": [],
   "source": [
    "video_ocr.filter_chord_intervals(chord_intervals, video_fps)\n",
    "print len(chord_intervals.items())"
   ]
  },
  {
   "cell_type": "code",
   "execution_count": null,
   "metadata": {
    "collapsed": false
   },
   "outputs": [],
   "source": [
    "merged = video_ocr.merge_chord_intervals(chord_intervals, video_fps)\n",
    "print len(merged.items())"
   ]
  },
  {
   "cell_type": "code",
   "execution_count": null,
   "metadata": {
    "collapsed": false
   },
   "outputs": [],
   "source": [
    "merged"
   ]
  },
  {
   "cell_type": "markdown",
   "metadata": {},
   "source": [
    "## Creating Labeled Audio Files ##\n",
    "\n",
    "First, we will create a wav file that contains the audio from the video using ffmpeg. Then we will split the audio file according to the intervals creating above."
   ]
  },
  {
   "cell_type": "code",
   "execution_count": null,
   "metadata": {
    "collapsed": false
   },
   "outputs": [],
   "source": [
    "wav_file = video_ocr.extract_audio_from_video(video)\n",
    "wav_file"
   ]
  },
  {
   "cell_type": "code",
   "execution_count": null,
   "metadata": {
    "collapsed": false
   },
   "outputs": [],
   "source": [
    "import os\n",
    "output_dir = video_ocr.get_file_name(video) + '/'\n",
    "print output_dir\n",
    "\n",
    "# if the directory doesn't exist, create it. Otherwise, delete the contents.\n",
    "try:\n",
    "    os.mkdir(output_dir)\n",
    "except OSError:\n",
    "    files = ! ls {json.dumps(output_dir)}\n",
    "    for f in files:\n",
    "        os.remove(output_dir + f)\n",
    "    pass #directory already exists, clear contents"
   ]
  },
  {
   "cell_type": "code",
   "execution_count": null,
   "metadata": {
    "collapsed": false
   },
   "outputs": [],
   "source": [
    "video_ocr.chord_intervals_to_audio_snips(chord_intervals, wav_file, output_dir, video_nb_frames)"
   ]
  },
  {
   "cell_type": "code",
   "execution_count": null,
   "metadata": {
    "collapsed": true
   },
   "outputs": [],
   "source": [
    "video_ocr.cleanup()"
   ]
  },
  {
   "cell_type": "markdown",
   "metadata": {},
   "source": [
    "## Tying Everything Together ##\n",
    "\n",
    "This function creates a folder output, with 1 subfolder for each video, containing the labeled audio files."
   ]
  },
  {
   "cell_type": "code",
   "execution_count": null,
   "metadata": {
    "collapsed": false,
    "scrolled": true
   },
   "outputs": [],
   "source": [
    "video_ocr.video_list_to_audio_snips(videos, True)"
   ]
  },
  {
   "cell_type": "markdown",
   "metadata": {},
   "source": [
    "# Profiling #\n",
    "\n",
    "Run this code to profile the get_active_chord function."
   ]
  },
  {
   "cell_type": "code",
   "execution_count": null,
   "metadata": {
    "collapsed": false
   },
   "outputs": [],
   "source": [
    "video = videos[0]\n",
    "print \"Reading \" + video\n",
    "vidcap = cv2.VideoCapture(video)\n",
    "print(vidcap.get(cv2.cv.CV_CAP_PROP_FRAME_COUNT))\n",
    "vidcap.isOpened()"
   ]
  },
  {
   "cell_type": "code",
   "execution_count": null,
   "metadata": {
    "collapsed": true
   },
   "outputs": [],
   "source": [
    "def read_frames(nb_frames):\n",
    "    frame_chords = []\n",
    "    previous_frame = None\n",
    "    for i in range(nb_frames):\n",
    "        success,image = vidcap.read()\n",
    "        frame_chords.append(get_active_chord(image))\n",
    "    return frame_chords"
   ]
  },
  {
   "cell_type": "code",
   "execution_count": null,
   "metadata": {
    "collapsed": false
   },
   "outputs": [],
   "source": [
    "# run cprofilev cprofile_output.txt\n",
    "pr = cProfile.Profile()\n",
    "pr.runctx('read_frames(500)', None, locals())\n",
    "pr.dump_stats(\"cprofile_output.txt\")"
   ]
  }
 ],
 "metadata": {
  "kernelspec": {
   "display_name": "Python 2",
   "language": "python",
   "name": "python2"
  },
  "language_info": {
   "codemirror_mode": {
    "name": "ipython",
    "version": 2
   },
   "file_extension": ".py",
   "mimetype": "text/x-python",
   "name": "python",
   "nbconvert_exporter": "python",
   "pygments_lexer": "ipython2",
   "version": "2.7.11"
  }
 },
 "nbformat": 4,
 "nbformat_minor": 0
}
